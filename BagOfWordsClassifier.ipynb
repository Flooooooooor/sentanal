{
 "cells": [
  {
   "cell_type": "code",
   "execution_count": 80,
   "metadata": {},
   "outputs": [
    {
     "name": "stdout",
     "output_type": "stream",
     "text": [
      "[nltk_data] Downloading package punkt to\n",
      "[nltk_data]     C:\\Users\\jma88\\AppData\\Roaming\\nltk_data...\n",
      "[nltk_data]   Package punkt is already up-to-date!\n"
     ]
    }
   ],
   "source": [
    "# Adapted from code by Shravan I.V. \n",
    "# https://opensourceforu.com/2016/12/analysing-sentiments-nltk/\n",
    "import nltk\n",
    "from nltk.tokenize import word_tokenize\n",
    "nltk.download('punkt')\n",
    "from random import shuffle\n",
    "import math\n",
    "import numpy as np\n",
    "\n",
    "# Step 0 - All data\n",
    "allData = [\n",
    "    (\"Great place to be when you are in Bangalore.\", \"pos\"),\n",
    "    (\"The place was being renovated when I visited so the seating was limited.\", \"neg\"),\n",
    "    (\"Loved the ambience, loved the food\", \"pos\"),\n",
    "    (\"The food is delicious but not over the top.\", \"neg\"),\n",
    "    (\"Service - Little slow, probably because too many people.\", \"neg\"),\n",
    "    (\"The place is not easy to locate\", \"neg\"),\n",
    "    (\"If I could give this place zero stars I would!\", \"neg\"),\n",
    "    (\"I had the carne asada burrito and it was amazing\", \"pos\"),\n",
    "    (\"I had a really bad experience here about a year ago\", \"neg\"),\n",
    "    (\"Trust me, you have to be pretty damn good to get this high honor\", \"pos\"),\n",
    "    (\"Hopefully in the near future, the owner will open up another store to alleviate the congestion of his current spot\", \"neg\"),\n",
    "    (\"Super crowded and not a whole lot of seating\", \"neg\"),\n",
    "    (\"This place holds a special place in my heart.\", \"pos\"),\n",
    "    (\" Unfortunately, they still put sour cream in my husband's burrito when I specifically requested his burrito without it.\", \"neg\"),\n",
    "    (\"The menu seems pretty simple.\", \"neg\"),\n",
    "    (\"The flavors were great.\", \"pos\"),\n",
    "    (\" La Taqueria is a true orginal of the Misison and has been around for decades.\", \"pos\"),\n",
    "    (\"Nothing flashy, just plain old delicious carne asada, tortilla, cilantro, onions and salsa.\", \"pos\"),\n",
    "    (\"What a disappointment.\", \"neg\"),\n",
    "    (\"Unfortunately, everything about the experience was mediocre, starting with the food and moving to the customer service.\", \"neg\"),\n",
    "    (\"Half a burrito was the perfect amount, and you get the benefit of still being able to eat delicious food!\", \"pos\"),\n",
    "    (\"This was the first place I wanted to try on my trip to San Fran, and it was well worth it.\", \"pos\")\n",
    "]\n",
    "    \n",
    "trainSize = math.floor(len(allData) * 0.9) \n",
    "\n",
    "shuffle(allData)\n",
    "\n",
    "# Step 1 – Training data\n",
    "train = allData[:trainSize]\n",
    "test = allData[trainSize:]\n",
    "\n",
    "#print(\"TRAIN\" + str(train))\n",
    "#print(\"\\n\\n\\nTEST\" + str(test))\n"
   ]
  },
  {
   "cell_type": "code",
   "execution_count": 81,
   "metadata": {},
   "outputs": [],
   "source": [
    "# Step 2\n",
    "dictionary = set(word.lower() for passage in train for word in word_tokenize(passage[0]))\n",
    "\n",
    "#print(dictionary)"
   ]
  },
  {
   "cell_type": "code",
   "execution_count": 82,
   "metadata": {},
   "outputs": [],
   "source": [
    "# Step 3\n",
    "t = [({word: (word in word_tokenize(x[0])) for word in dictionary}, x[1]) for x in train]\n",
    "\n",
    "#print(t)"
   ]
  },
  {
   "cell_type": "code",
   "execution_count": 83,
   "metadata": {},
   "outputs": [],
   "source": [
    "# Step 4 – the classifier is trained with sample data\n",
    "classifier = nltk.NaiveBayesClassifier.train(t)"
   ]
  },
  {
   "cell_type": "code",
   "execution_count": 84,
   "metadata": {},
   "outputs": [],
   "source": [
    "def getConfusion(dataset):\n",
    "\n",
    "    confusion = np.matrix([[0,0],[0,0]])\n",
    "\n",
    "    for case in dataset:\n",
    "        sentence, answer = case[0], case[1]\n",
    "        test_data_features = {word.lower(): (word in word_tokenize(sentence.lower())) for word in dictionary}\n",
    "        guess = (classifier.classify(test_data_features))\n",
    "\n",
    "        if (answer == \"pos\"):\n",
    "            if (guess == \"pos\"):\n",
    "                confusion[1,1] += 1\n",
    "            else:\n",
    "                confusion[1,0] += 1\n",
    "        else:\n",
    "            if (guess == \"pos\"):\n",
    "                confusion[0,1] += 1\n",
    "            else:\n",
    "                confusion[0,0] += 1\n",
    "                \n",
    "    return confusion"
   ]
  },
  {
   "cell_type": "code",
   "execution_count": 85,
   "metadata": {},
   "outputs": [],
   "source": [
    "def printResults(name, confusion):\n",
    "    \n",
    "    total = np.sum(confusion)\n",
    "    correct = confusion[0,0] + confusion[1,1]\n",
    "    \n",
    "    accuracy = correct / total\n",
    "    \n",
    "    print(\"----------------\")\n",
    "    print(name)\n",
    "    print(confusion)\n",
    "    print(\"accuracy: \" + \"{:.0%}\".format(accuracy))"
   ]
  },
  {
   "cell_type": "code",
   "execution_count": 86,
   "metadata": {},
   "outputs": [
    {
     "name": "stdout",
     "output_type": "stream",
     "text": [
      "----------------\n",
      "Training:\n",
      "[[11  0]\n",
      " [ 0  8]]\n",
      "accuracy: 100%\n",
      "----------------\n",
      "Testing:\n",
      "[[1 0]\n",
      " [0 2]]\n",
      "accuracy: 100%\n"
     ]
    }
   ],
   "source": [
    "train_confusion = getConfusion(train)\n",
    "test_confusion = getConfusion(test)\n",
    "\n",
    "printResults(\"Training:\", train_confusion)\n",
    "printResults(\"Testing:\", test_confusion)"
   ]
  },
  {
   "cell_type": "code",
   "execution_count": null,
   "metadata": {},
   "outputs": [],
   "source": []
  }
 ],
 "metadata": {
  "kernelspec": {
   "display_name": "Python 3",
   "language": "python",
   "name": "python3"
  },
  "language_info": {
   "codemirror_mode": {
    "name": "ipython",
    "version": 3
   },
   "file_extension": ".py",
   "mimetype": "text/x-python",
   "name": "python",
   "nbconvert_exporter": "python",
   "pygments_lexer": "ipython3",
   "version": "3.6.4"
  }
 },
 "nbformat": 4,
 "nbformat_minor": 2
}
